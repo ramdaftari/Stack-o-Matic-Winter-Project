{
  "nbformat": 4,
  "nbformat_minor": 0,
  "metadata": {
    "colab": {
      "provenance": []
    },
    "kernelspec": {
      "name": "python3",
      "display_name": "Python 3"
    },
    "language_info": {
      "name": "python"
    }
  },
  "cells": [
    {
      "cell_type": "code",
      "execution_count": 2,
      "metadata": {
        "colab": {
          "base_uri": "https://localhost:8080/"
        },
        "id": "5mvDb9xh0gE4",
        "outputId": "dace8ba8-5b08-4342-f902-3a4840876883"
      },
      "outputs": [
        {
          "output_type": "stream",
          "name": "stdout",
          "text": [
            "Collecting gymnasium\n",
            "  Downloading gymnasium-1.0.0-py3-none-any.whl.metadata (9.5 kB)\n",
            "Requirement already satisfied: numpy>=1.21.0 in /usr/local/lib/python3.10/dist-packages (from gymnasium) (1.26.4)\n",
            "Requirement already satisfied: cloudpickle>=1.2.0 in /usr/local/lib/python3.10/dist-packages (from gymnasium) (3.1.0)\n",
            "Requirement already satisfied: typing-extensions>=4.3.0 in /usr/local/lib/python3.10/dist-packages (from gymnasium) (4.12.2)\n",
            "Collecting farama-notifications>=0.0.1 (from gymnasium)\n",
            "  Downloading Farama_Notifications-0.0.4-py3-none-any.whl.metadata (558 bytes)\n",
            "Downloading gymnasium-1.0.0-py3-none-any.whl (958 kB)\n",
            "\u001b[2K   \u001b[90m━━━━━━━━━━━━━━━━━━━━━━━━━━━━━━━━━━━━━━━━\u001b[0m \u001b[32m958.1/958.1 kB\u001b[0m \u001b[31m10.3 MB/s\u001b[0m eta \u001b[36m0:00:00\u001b[0m\n",
            "\u001b[?25hDownloading Farama_Notifications-0.0.4-py3-none-any.whl (2.5 kB)\n",
            "Installing collected packages: farama-notifications, gymnasium\n",
            "Successfully installed farama-notifications-0.0.4 gymnasium-1.0.0\n",
            "Collecting swig\n",
            "  Downloading swig-4.3.0-py2.py3-none-manylinux_2_5_x86_64.manylinux1_x86_64.whl.metadata (3.5 kB)\n",
            "Downloading swig-4.3.0-py2.py3-none-manylinux_2_5_x86_64.manylinux1_x86_64.whl (1.9 MB)\n",
            "\u001b[2K   \u001b[90m━━━━━━━━━━━━━━━━━━━━━━━━━━━━━━━━━━━━━━━━\u001b[0m \u001b[32m1.9/1.9 MB\u001b[0m \u001b[31m16.3 MB/s\u001b[0m eta \u001b[36m0:00:00\u001b[0m\n",
            "\u001b[?25hInstalling collected packages: swig\n",
            "Successfully installed swig-4.3.0\n",
            "Requirement already satisfied: gymnasium[box2d] in /usr/local/lib/python3.10/dist-packages (1.0.0)\n",
            "Requirement already satisfied: numpy>=1.21.0 in /usr/local/lib/python3.10/dist-packages (from gymnasium[box2d]) (1.26.4)\n",
            "Requirement already satisfied: cloudpickle>=1.2.0 in /usr/local/lib/python3.10/dist-packages (from gymnasium[box2d]) (3.1.0)\n",
            "Requirement already satisfied: typing-extensions>=4.3.0 in /usr/local/lib/python3.10/dist-packages (from gymnasium[box2d]) (4.12.2)\n",
            "Requirement already satisfied: farama-notifications>=0.0.1 in /usr/local/lib/python3.10/dist-packages (from gymnasium[box2d]) (0.0.4)\n",
            "Collecting box2d-py==2.3.5 (from gymnasium[box2d])\n",
            "  Downloading box2d-py-2.3.5.tar.gz (374 kB)\n",
            "\u001b[2K     \u001b[90m━━━━━━━━━━━━━━━━━━━━━━━━━━━━━━━━━━━━━━━━\u001b[0m \u001b[32m374.4/374.4 kB\u001b[0m \u001b[31m6.9 MB/s\u001b[0m eta \u001b[36m0:00:00\u001b[0m\n",
            "\u001b[?25h  Preparing metadata (setup.py) ... \u001b[?25l\u001b[?25hdone\n",
            "Requirement already satisfied: pygame>=2.1.3 in /usr/local/lib/python3.10/dist-packages (from gymnasium[box2d]) (2.6.1)\n",
            "Requirement already satisfied: swig==4.* in /usr/local/lib/python3.10/dist-packages (from gymnasium[box2d]) (4.3.0)\n",
            "Building wheels for collected packages: box2d-py\n",
            "  Building wheel for box2d-py (setup.py) ... \u001b[?25l\u001b[?25hdone\n",
            "  Created wheel for box2d-py: filename=box2d_py-2.3.5-cp310-cp310-linux_x86_64.whl size=2376418 sha256=8bc59c64af5840d806becc9e5d06470a68df10fe2d539f77def5d6eeff599629\n",
            "  Stored in directory: /root/.cache/pip/wheels/db/8f/6a/eaaadf056fba10a98d986f6dce954e6201ba3126926fc5ad9e\n",
            "Successfully built box2d-py\n",
            "Installing collected packages: box2d-py\n",
            "Successfully installed box2d-py-2.3.5\n",
            "Requirement already satisfied: torch in /usr/local/lib/python3.10/dist-packages (2.5.1+cu121)\n",
            "Requirement already satisfied: filelock in /usr/local/lib/python3.10/dist-packages (from torch) (3.16.1)\n",
            "Requirement already satisfied: typing-extensions>=4.8.0 in /usr/local/lib/python3.10/dist-packages (from torch) (4.12.2)\n",
            "Requirement already satisfied: networkx in /usr/local/lib/python3.10/dist-packages (from torch) (3.4.2)\n",
            "Requirement already satisfied: jinja2 in /usr/local/lib/python3.10/dist-packages (from torch) (3.1.5)\n",
            "Requirement already satisfied: fsspec in /usr/local/lib/python3.10/dist-packages (from torch) (2024.10.0)\n",
            "Requirement already satisfied: sympy==1.13.1 in /usr/local/lib/python3.10/dist-packages (from torch) (1.13.1)\n",
            "Requirement already satisfied: mpmath<1.4,>=1.1.0 in /usr/local/lib/python3.10/dist-packages (from sympy==1.13.1->torch) (1.3.0)\n",
            "Requirement already satisfied: MarkupSafe>=2.0 in /usr/local/lib/python3.10/dist-packages (from jinja2->torch) (3.0.2)\n",
            "Requirement already satisfied: numpy in /usr/local/lib/python3.10/dist-packages (1.26.4)\n",
            "Requirement already satisfied: pandas in /usr/local/lib/python3.10/dist-packages (2.2.2)\n",
            "Requirement already satisfied: numpy>=1.22.4 in /usr/local/lib/python3.10/dist-packages (from pandas) (1.26.4)\n",
            "Requirement already satisfied: python-dateutil>=2.8.2 in /usr/local/lib/python3.10/dist-packages (from pandas) (2.8.2)\n",
            "Requirement already satisfied: pytz>=2020.1 in /usr/local/lib/python3.10/dist-packages (from pandas) (2024.2)\n",
            "Requirement already satisfied: tzdata>=2022.7 in /usr/local/lib/python3.10/dist-packages (from pandas) (2024.2)\n",
            "Requirement already satisfied: six>=1.5 in /usr/local/lib/python3.10/dist-packages (from python-dateutil>=2.8.2->pandas) (1.17.0)\n",
            "Requirement already satisfied: matplotlib in /usr/local/lib/python3.10/dist-packages (3.10.0)\n",
            "Requirement already satisfied: contourpy>=1.0.1 in /usr/local/lib/python3.10/dist-packages (from matplotlib) (1.3.1)\n",
            "Requirement already satisfied: cycler>=0.10 in /usr/local/lib/python3.10/dist-packages (from matplotlib) (0.12.1)\n",
            "Requirement already satisfied: fonttools>=4.22.0 in /usr/local/lib/python3.10/dist-packages (from matplotlib) (4.55.3)\n",
            "Requirement already satisfied: kiwisolver>=1.3.1 in /usr/local/lib/python3.10/dist-packages (from matplotlib) (1.4.8)\n",
            "Requirement already satisfied: numpy>=1.23 in /usr/local/lib/python3.10/dist-packages (from matplotlib) (1.26.4)\n",
            "Requirement already satisfied: packaging>=20.0 in /usr/local/lib/python3.10/dist-packages (from matplotlib) (24.2)\n",
            "Requirement already satisfied: pillow>=8 in /usr/local/lib/python3.10/dist-packages (from matplotlib) (11.1.0)\n",
            "Requirement already satisfied: pyparsing>=2.3.1 in /usr/local/lib/python3.10/dist-packages (from matplotlib) (3.2.1)\n",
            "Requirement already satisfied: python-dateutil>=2.7 in /usr/local/lib/python3.10/dist-packages (from matplotlib) (2.8.2)\n",
            "Requirement already satisfied: six>=1.5 in /usr/local/lib/python3.10/dist-packages (from python-dateutil>=2.7->matplotlib) (1.17.0)\n",
            "Mounted at /content/drive\n"
          ]
        }
      ],
      "source": [
        "!pip install gymnasium\n",
        "!pip install swig\n",
        "!pip install gymnasium[box2d]\n",
        "!pip install torch\n",
        "!pip install numpy\n",
        "!pip install pandas\n",
        "!pip install matplotlib\n",
        "import gymnasium as gym\n",
        "import torch\n",
        "import torch.nn as nn\n",
        "import torch.nn.functional as F\n",
        "import torch.optim as optim\n",
        "import numpy as np\n",
        "import pandas as pd\n",
        "import random\n",
        "import matplotlib.pyplot as plt\n",
        "from collections import namedtuple, deque\n",
        "from google.colab import drive\n",
        "import os\n",
        "drive.mount('/content/drive')"
      ]
    },
    {
      "cell_type": "code",
      "source": [
        "class QNet(nn.Module):\n",
        "    def __init__(self) -> None:\n",
        "        super(QNet, self).__init__()\n",
        "        self.I = nn.Linear(8, 128)\n",
        "        self.H = nn.Linear(128, 128)\n",
        "        self.O = nn.Linear(128, 4)\n",
        "\n",
        "    def forward(self, x):\n",
        "        x = F.relu(self.I(x))\n",
        "        x = F.relu(self.H(x))\n",
        "        return self.O(x)\n",
        "\n",
        "class TargetQNet(nn.Module):\n",
        "    def __init__(self) -> None:\n",
        "        super(TargetQNet, self).__init__()\n",
        "        self.I = nn.Linear(8, 128)\n",
        "        self.H = nn.Linear(128, 128)\n",
        "        self.O = nn.Linear(128, 4)\n",
        "\n",
        "    def forward(self, x):\n",
        "        x = F.relu(self.I(x))\n",
        "        x = F.relu(self.H(x))\n",
        "        return self.O(x)\n",
        "\n",
        "def ComputeLoss(experiences, gamma, QNet, TargetQNet):\n",
        "    states = torch.FloatTensor([exp.state for exp in experiences])\n",
        "    actions = torch.LongTensor([[exp.action] for exp in experiences])\n",
        "    rewards = torch.FloatTensor([[exp.reward] for exp in experiences])\n",
        "    next_states = torch.FloatTensor([exp.next_state for exp in experiences])\n",
        "    terminateds = torch.FloatTensor([[1 - exp.terminated] for exp in experiences])\n",
        "\n",
        "    next_q_values = TargetQNet(next_states)\n",
        "    max_next_q_values = torch.max(next_q_values, dim=1, keepdim=True)[0]\n",
        "\n",
        "    target_q_values = rewards + (gamma * max_next_q_values * terminateds)\n",
        "\n",
        "    q_values = QNet(states)\n",
        "    q_values = q_values.gather(1, actions)\n",
        "\n",
        "    loss = F.smooth_l1_loss(q_values, target_q_values.detach())\n",
        "    return loss\n",
        "\n",
        "def AgentLearn(experiences, gamma, QNet, TargetQNet, optimizer):\n",
        "    loss = ComputeLoss(experiences, gamma, QNet, TargetQNet)\n",
        "    optimizer.zero_grad()\n",
        "    loss.backward()\n",
        "    optimizer.step()\n",
        "\n",
        "Experience = namedtuple('Experience', ('state', 'action', 'reward', 'next_state', 'terminated', 'truncated'))"
      ],
      "metadata": {
        "id": "jORUsY_83HZa"
      },
      "execution_count": 3,
      "outputs": []
    },
    {
      "cell_type": "code",
      "source": [
        "env = gym.make(\"LunarLander-v3\")\n",
        "QNet = QNet()\n",
        "TargetQNet = TargetQNet()\n",
        "optimizer = optim.Adam(QNet.parameters(), lr=0.001)\n",
        "gamma = 0.99\n",
        "\n",
        "max_episodes = 10000\n",
        "max_num_timesteps = 2000\n",
        "num_p_av = 100\n",
        "epsilon = 1.00\n",
        "batch_size = 32\n",
        "memory_buffer = deque(maxlen=10000)\n",
        "TargetQNet.load_state_dict(QNet.state_dict())\n",
        "total_point_history = []\n",
        "\n",
        "for i in range(max_episodes):\n",
        "    state, _ = env.reset()\n",
        "    total_points = 0\n",
        "\n",
        "    for t in range(max_num_timesteps):\n",
        "        state_tensor = torch.FloatTensor(state).unsqueeze(0)\n",
        "\n",
        "        # Epsilon-greedy action selection\n",
        "        if np.random.random() < epsilon:\n",
        "            action = env.action_space.sample()\n",
        "        else:\n",
        "            with torch.no_grad():\n",
        "                action = torch.argmax(QNet(state_tensor)).item()\n",
        "\n",
        "        next_state, reward, terminated, truncated, _ = env.step(action)\n",
        "        total_points += reward\n",
        "\n",
        "        memory_buffer.append(Experience(state, action, reward, next_state, terminated, truncated))\n",
        "\n",
        "        if len(memory_buffer) >= batch_size:\n",
        "            experiences = random.sample(list(memory_buffer), batch_size)\n",
        "            AgentLearn(experiences, gamma, QNet, TargetQNet, optimizer)\n",
        "\n",
        "        state = next_state\n",
        "\n",
        "        if terminated or truncated:\n",
        "            break\n",
        "\n",
        "    total_point_history.append(total_points)\n",
        "    epsilon = max(0.01, epsilon * 0.995)\n",
        "\n",
        "    if i % 10 == 0:\n",
        "        TargetQNet.load_state_dict(QNet.state_dict())\n",
        "\n",
        "    av_latest_points = np.mean(total_point_history[-num_p_av:])\n",
        "    print(f\"\\rEpisode {i+1} | Latest average: {av_latest_points:.2f}\", end=\"\")\n",
        "    if (i + 1) % num_p_av == 0:\n",
        "        print(f\"\\nCompleted {i+1} episodes | Average over last {num_p_av}: {av_latest_points:.2f}\")\n",
        "\n",
        "    if av_latest_points >= 200.0:\n",
        "        print(f\"\\nEnvironment solved in {i+1} episodes!\")\n",
        "        torch.save(QNet.state_dict(), 'lunar_lander_model.pth')\n",
        "        break"
      ],
      "metadata": {
        "colab": {
          "base_uri": "https://localhost:8080/"
        },
        "id": "dianC--XIjbc",
        "outputId": "b77189fa-d46d-4c76-db69-eed73367952f"
      },
      "execution_count": 4,
      "outputs": [
        {
          "output_type": "stream",
          "name": "stderr",
          "text": [
            "<ipython-input-3-a3237393710b>:26: UserWarning: Creating a tensor from a list of numpy.ndarrays is extremely slow. Please consider converting the list to a single numpy.ndarray with numpy.array() before converting to a tensor. (Triggered internally at ../torch/csrc/utils/tensor_new.cpp:278.)\n",
            "  states = torch.FloatTensor([exp.state for exp in experiences])\n"
          ]
        },
        {
          "output_type": "stream",
          "name": "stdout",
          "text": [
            "Episode 100 | Latest average: -111.20\n",
            "Completed 100 episodes | Average over last 100: -111.20\n",
            "Episode 200 | Latest average: -33.06\n",
            "Completed 200 episodes | Average over last 100: -33.06\n",
            "Episode 300 | Latest average: -18.76\n",
            "Completed 300 episodes | Average over last 100: -18.76\n",
            "Episode 400 | Latest average: 57.91\n",
            "Completed 400 episodes | Average over last 100: 57.91\n",
            "Episode 500 | Latest average: 138.35\n",
            "Completed 500 episodes | Average over last 100: 138.35\n",
            "Episode 577 | Latest average: 200.31\n",
            "Environment solved in 577 episodes!\n"
          ]
        }
      ]
    },
    {
      "cell_type": "code",
      "source": [
        "env = gym.make(\"LunarLander-v3\", render_mode=\"rgb_array\")\n",
        "tot_reward = 0\n",
        "\n",
        "videos_dir = \"/content/drive/MyDrive/LunarLander_Videos\"\n",
        "if not os.path.exists(videos_dir):\n",
        "    os.makedirs(videos_dir)\n",
        "\n",
        "curr_state, _ = env.reset()\n",
        "env = gym.wrappers.RecordVideo(env, videos_dir, episode_trigger=lambda episode_id: True, name_prefix=\"Trained Lander\")\n",
        "\n",
        "plt.ion()\n",
        "fig, ax = plt.subplots()\n",
        "im = ax.imshow(env.render())\n",
        "plt.axis(\"off\")\n",
        "\n",
        "for t in range(max_num_timesteps):\n",
        "    rgb_array = env.render()\n",
        "    im.set_data(rgb_array)\n",
        "    curr_state_tensor = torch.FloatTensor(curr_state).unsqueeze(0)\n",
        "    action = torch.argmax(QNet(curr_state_tensor)).item()\n",
        "    next_state, reward, terminated, truncated, _ = env.step(action)\n",
        "    tot_reward += reward\n",
        "    curr_state = next_state\n",
        "    if terminated or truncated:\n",
        "        break\n",
        "\n",
        "rgb_array = env.render()\n",
        "im.set_data(rgb_array)\n",
        "plt.ioff()\n",
        "plt.show()\n",
        "env.close()\n",
        "print(f\"Episode completed with reward: {tot_reward}\")"
      ],
      "metadata": {
        "colab": {
          "base_uri": "https://localhost:8080/",
          "height": 384
        },
        "id": "Bc2f9zR0qqQo",
        "outputId": "8f78d6fc-d777-4308-92c4-5c9186eb3064"
      },
      "execution_count": 6,
      "outputs": [
        {
          "output_type": "display_data",
          "data": {
            "text/plain": [
              "<Figure size 640x480 with 1 Axes>"
            ],
            "image/png": "[encoded data removed]"
          },
          "metadata": {}
        },
        {
          "output_type": "stream",
          "name": "stdout",
          "text": [
            "Episode completed with reward: 251.33684389655204\n"
          ]
        }
      ]
    }
  ]
}